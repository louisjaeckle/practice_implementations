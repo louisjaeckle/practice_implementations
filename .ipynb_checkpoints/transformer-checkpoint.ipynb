{
 "cells": [
  {
   "cell_type": "markdown",
   "id": "4c25db40",
   "metadata": {},
   "source": [
    "# Bad code below"
   ]
  },
  {
   "cell_type": "code",
   "execution_count": 1,
   "id": "7ce5946d",
   "metadata": {},
   "outputs": [],
   "source": [
    "from tensorflow import keras\n",
    "import tensorflow as tf\n",
    "import numpy as np\n",
    "import csv\n",
    "from math import sqrt"
   ]
  },
  {
   "cell_type": "code",
   "execution_count": 2,
   "id": "b38ed64e",
   "metadata": {},
   "outputs": [],
   "source": [
    "input_data = []\n",
    "output_data = []\n",
    "with open('eng_de.csv') as f:\n",
    "    reader = csv.reader(f)\n",
    "    for row in reader:\n",
    "        input_data.append(row[0].strip().split())\n",
    "        output_data.append(row[1].strip().split())"
   ]
  },
  {
   "cell_type": "code",
   "execution_count": 98,
   "id": "f39fd5a4",
   "metadata": {},
   "outputs": [],
   "source": [
    "class AttentionHead(keras.layers.Layer):\n",
    "    def __init__(self,d_model,d_k):\n",
    "        super(AttentionHead,self).__init__()\n",
    "        self.w_q = tf.Variable(np.random.uniform(-1.0,1.0,size=(d_model,d_k)),dtype=tf.float32)\n",
    "        self.w_k = tf.Variable(np.random.uniform(-1.0,1.0,size=(d_model,d_k)),dtype=tf.float32)\n",
    "        self.w_v = tf.Variable(np.random.uniform(-1.0,1.0,size=(d_model,d_k)),dtype=tf.float32)\n",
    "        self.d_model = d_model\n",
    "        self.d_k = d_k\n",
    "    \n",
    "    def call(self,Q,K,V):\n",
    "        queries = tf.matmul(Q,self.w_q)\n",
    "        keys = tf.matmul(K,self.w_k)\n",
    "        values = tf.matmul(V,self.w_v)\n",
    "        scores = tf.nn.softmax(tf.matmul(queries,tf.transpose(keys,perm=[0,2,1]))/sqrt(self.d_k))\n",
    "        return tf.matmul(scores,values)\n",
    "\n",
    "class MultiHeadAttention(keras.layers.Layer):\n",
    "    def __init__(self,d_model,n_heads):\n",
    "        super(MultiHeadAttention,self).__init__()\n",
    "        assert d_model%n_heads==0\n",
    "        \n",
    "        d_k = d_model//n_heads\n",
    "        self.heads = [AttentionHead(d_model,d_k) for _ in range(n_heads)]\n",
    "        self.w_o = tf.Variable(np.random.uniform(-1.0,1.0,size=(d_model,d_model)),dtype=tf.float32)\n",
    "    \n",
    "    def call(self,Q,K,V):\n",
    "        heads_outputs = tf.concat([head(Q,K,V) for head in self.heads],-1)\n",
    "        return tf.matmul(heads_outputs,self.w_o)\n",
    "\n",
    "class EncoderBlock(keras.layers.Layer):\n",
    "    def __init__(self,d_model,n_heads):\n",
    "        super(EncoderBlock,self).__init__()\n",
    "        self.d_model = d_model\n",
    "        self.n_heads = n_heads\n",
    "        self.attention = MultiHeadAttention(d_model,n_heads)\n",
    "        self.norm_layer_1 = keras.layers.LayerNormalization()\n",
    "        self.ff_layer = keras.layers.Dense(d_model,activation='relu')\n",
    "        self.norm_layer_2 = keras.layers.LayerNormalization()\n",
    "    \n",
    "    def call(self,inputs):\n",
    "        x = inputs + self.attention(inputs,inputs,inputs)\n",
    "        x = self.norm_layer_1(x)\n",
    "        x = x + self.ff_layer(x)\n",
    "        return self.norm_layer_2(x)\n",
    "\n",
    "class DecoderBlock(keras.layers.Layer):\n",
    "    def __init__(self,d_model,n_heads):\n",
    "        super(DecoderBlock,self).__init__()\n",
    "        self.d_model = d_model\n",
    "        self.n_heads = n_heads\n",
    "        \n",
    "        self.attention_1 = MultiHeadAttention(d_model,n_heads)\n",
    "        self.norm_layer_1 = keras.layers.LayerNormalization()\n",
    "        self.attention_2 = MultiHeadAttention(d_model,n_heads)\n",
    "        self.norm_layer_2 = keras.layers.LayerNormalization()\n",
    "        self.ff_layer = keras.layers.Dense(d_model,activation='relu')\n",
    "        self.norm_layer_3 = keras.layers.LayerNormalization()\n",
    "    \n",
    "    def call(self,prev_tokens,encoder_tokens):\n",
    "        x = prev_tokens + self.attention_1(prev_tokens,prev_tokens,prev_tokens)\n",
    "        x = self.norm_layer_1(x)\n",
    "        x = x + self.attention_2(prev_tokens,encoder_tokens,encoder_tokens)\n",
    "        x = self.norm_layer_2(x)\n",
    "        x = x + self.ff_layer(x)\n",
    "        return self.norm_layer_3(x)\n",
    "\n",
    "\n",
    "    \n",
    "def make_transformer(n_encoders=3,n_decoders=3,n_heads=4,token_size=16,max_tokens=10):\n",
    "    encoder_input = keras.Input(shape=(max_tokens,token_size),dtype='float32',name='encoder_input')\n",
    "    encoder_output = encoder_input\n",
    "    for encoder in range(n_encoders):\n",
    "        encoder_output = EncoderBlock(token_size,n_heads)(encoder_output)\n",
    "    \n",
    "    decoder_input = keras.Input(shape=(max_tokens,token_size),dtype='float32',name='decoder_input')\n",
    "    decoder_output = decoder_input\n",
    "    for decoder in range(n_decoders):\n",
    "        decoder_output = DecoderBlock(token_size,n_heads)(decoder_output,encoder_output)\n",
    "    \n",
    "    transformer_model = keras.Model(inputs = [encoder_input,decoder_input],outputs=decoder_output)\n",
    "    return transformer_model\n",
    "        \n",
    "        \n",
    "        \n",
    "        \n",
    "        \n",
    "        "
   ]
  },
  {
   "cell_type": "code",
   "execution_count": 99,
   "id": "98d841d0",
   "metadata": {},
   "outputs": [],
   "source": [
    "transformer = make_transformer(token_size=32)"
   ]
  },
  {
   "cell_type": "code",
   "execution_count": 100,
   "id": "d7e3e918",
   "metadata": {},
   "outputs": [
    {
     "data": {
      "image/png": "[encoded data removed]",
      "text/plain": [
       "<IPython.core.display.Image object>"
      ]
     },
     "execution_count": 100,
     "metadata": {},
     "output_type": "execute_result"
    }
   ],
   "source": [
    "#use this to plot model topology\n",
    "\n",
    "keras.utils.plot_model(transformer,show_shapes=True)"
   ]
  },
  {
   "cell_type": "code",
   "execution_count": 123,
   "id": "fe9b73aa",
   "metadata": {},
   "outputs": [],
   "source": [
    "one_hot_inputs = np.zeros((len(input_data),10,32))\n",
    "for sentence_ind in range(len(input_data)):\n",
    "    for word_ind in range(len(input_data[sentence_ind])):\n",
    "        one_hot_inputs[sentence_ind][word_ind][word_dict[input_data[sentence_ind][word_ind]]] = 1\n",
    "\n",
    "\n",
    "one_hot_outputs = np.zeros((len(output_data),10,32))\n",
    "for sentence_ind in range(len(output_data)):\n",
    "    for word_ind in range(len(output_data[sentence_ind])):\n",
    "        one_hot_outputs[sentence_ind][word_ind][word_dict[output_data[sentence_ind][word_ind]]] = 1"
   ]
  },
  {
   "cell_type": "code",
   "execution_count": 101,
   "id": "57f4990f",
   "metadata": {},
   "outputs": [],
   "source": [
    "transformer.compile(\n",
    "    optimizer = 'adam',\n",
    "    loss = 'binary_crossentropy'\n",
    ")"
   ]
  },
  {
   "cell_type": "code",
   "execution_count": 128,
   "id": "199e130a",
   "metadata": {
    "scrolled": false
   },
   "outputs": [],
   "source": [
    "outie = transformer({'encoder_input':one_hot_inputs,'decoder_input':one_hot_outputs})"
   ]
  },
  {
   "cell_type": "code",
   "execution_count": 129,
   "id": "25efe1e5",
   "metadata": {},
   "outputs": [
    {
     "data": {
      "text/plain": [
       "<tf.Tensor: shape=(36, 10, 32), dtype=float32, numpy=\n",
       "array([[[ 0.3389271 ,  0.06582084,  0.7487395 , ..., -0.85450083,\n",
       "         -1.2468024 , -1.1608535 ],\n",
       "        [ 0.3389315 ,  0.06582411,  0.74872804, ..., -0.8544933 ,\n",
       "         -1.2468032 , -1.1608651 ],\n",
       "        [ 0.33894718,  0.0658318 ,  0.7487293 , ..., -0.8544855 ,\n",
       "         -1.2468119 , -1.1608611 ],\n",
       "        ...,\n",
       "        [ 0.3389442 ,  0.06582423,  0.74873424, ..., -0.8544923 ,\n",
       "         -1.2468078 , -1.1608574 ],\n",
       "        [ 0.3389442 ,  0.06582423,  0.74873424, ..., -0.8544923 ,\n",
       "         -1.2468078 , -1.1608574 ],\n",
       "        [ 0.3389442 ,  0.06582423,  0.74873424, ..., -0.8544923 ,\n",
       "         -1.2468078 , -1.1608574 ]],\n",
       "\n",
       "       [[ 0.39686567,  0.1978467 ,  1.4351919 , ..., -1.2508612 ,\n",
       "         -1.7438915 , -0.74536306],\n",
       "        [ 0.39682534,  0.19771446,  1.4353423 , ..., -1.2507745 ,\n",
       "         -1.7437364 , -0.7452901 ],\n",
       "        [ 0.39688104,  0.19780548,  1.4351351 , ..., -1.2508626 ,\n",
       "         -1.7439305 , -0.7453763 ],\n",
       "        ...,\n",
       "        [ 0.39685303,  0.1977638 ,  1.4352391 , ..., -1.2508115 ,\n",
       "         -1.7438315 , -0.7453127 ],\n",
       "        [ 0.39685303,  0.1977638 ,  1.4352391 , ..., -1.2508115 ,\n",
       "         -1.7438315 , -0.7453127 ],\n",
       "        [ 0.39685303,  0.1977638 ,  1.4352391 , ..., -1.2508115 ,\n",
       "         -1.7438315 , -0.7453127 ]],\n",
       "\n",
       "       [[ 0.48362648,  0.5615269 ,  1.5969547 , ..., -0.34907207,\n",
       "         -1.0951066 , -1.1103663 ],\n",
       "        [ 0.48363203,  0.5615244 ,  1.5969553 , ..., -0.3490737 ,\n",
       "         -1.0951098 , -1.1103708 ],\n",
       "        [ 0.48362803,  0.56152767,  1.5969553 , ..., -0.34907347,\n",
       "         -1.0951065 , -1.1103671 ],\n",
       "        ...,\n",
       "        [ 0.4836309 ,  0.56152827,  1.5969558 , ..., -0.34907338,\n",
       "         -1.0951077 , -1.1103654 ],\n",
       "        [ 0.4836309 ,  0.56152827,  1.5969558 , ..., -0.34907338,\n",
       "         -1.0951077 , -1.1103654 ],\n",
       "        [ 0.4836309 ,  0.56152827,  1.5969558 , ..., -0.34907338,\n",
       "         -1.0951077 , -1.1103654 ]],\n",
       "\n",
       "       ...,\n",
       "\n",
       "       [[-0.07820957,  0.84975564,  1.1958972 , ..., -0.3952568 ,\n",
       "          0.72065765, -2.4691696 ],\n",
       "        [-0.0788174 ,  0.8498536 ,  1.1962146 , ..., -0.39602396,\n",
       "          0.72029084, -2.4681194 ],\n",
       "        [-0.07952304,  0.85072225,  1.1965972 , ..., -0.39680398,\n",
       "          0.7202313 , -2.4657812 ],\n",
       "        ...,\n",
       "        [-0.07843866,  0.84960306,  1.1958864 , ..., -0.39561737,\n",
       "          0.720262  , -2.4692848 ],\n",
       "        [-0.07843866,  0.84960306,  1.1958864 , ..., -0.39561737,\n",
       "          0.720262  , -2.4692848 ],\n",
       "        [-0.07843866,  0.84960306,  1.1958864 , ..., -0.39561737,\n",
       "          0.720262  , -2.4692848 ]],\n",
       "\n",
       "       [[ 0.79746914,  2.0885055 , -0.12919378, ...,  1.1683133 ,\n",
       "          1.0055444 , -0.58699   ],\n",
       "        [ 0.79747957,  2.088505  , -0.12918852, ...,  1.1683232 ,\n",
       "          1.005536  , -0.5869838 ],\n",
       "        [ 0.7974632 ,  2.0885086 , -0.12918937, ...,  1.1683221 ,\n",
       "          1.0055323 , -0.58698195],\n",
       "        ...,\n",
       "        [ 0.7974623 ,  2.0885065 , -0.12918562, ...,  1.1683197 ,\n",
       "          1.0055401 , -0.58698046],\n",
       "        [ 0.7974623 ,  2.0885065 , -0.12918562, ...,  1.1683197 ,\n",
       "          1.0055401 , -0.58698046],\n",
       "        [ 0.7974623 ,  2.0885065 , -0.12918562, ...,  1.1683197 ,\n",
       "          1.0055401 , -0.58698046]],\n",
       "\n",
       "       [[ 0.87581915,  2.1756306 ,  0.42219478, ...,  0.7961061 ,\n",
       "          0.59507126, -1.2821457 ],\n",
       "        [ 0.87583524,  2.1756144 ,  0.4222039 , ...,  0.796102  ,\n",
       "          0.5950751 , -1.2821586 ],\n",
       "        [ 0.87583286,  2.175641  ,  0.42220828, ...,  0.7961091 ,\n",
       "          0.59504205, -1.2821368 ],\n",
       "        ...,\n",
       "        [ 0.87582296,  2.1756332 ,  0.4222003 , ...,  0.7961023 ,\n",
       "          0.5950759 , -1.2821406 ],\n",
       "        [ 0.87582296,  2.1756332 ,  0.4222003 , ...,  0.7961023 ,\n",
       "          0.5950759 , -1.2821406 ],\n",
       "        [ 0.87582296,  2.1756332 ,  0.4222003 , ...,  0.7961023 ,\n",
       "          0.5950759 , -1.2821406 ]]], dtype=float32)>"
      ]
     },
     "execution_count": 129,
     "metadata": {},
     "output_type": "execute_result"
    }
   ],
   "source": [
    "outie"
   ]
  }
 ],
 "metadata": {
  "kernelspec": {
   "display_name": "Python 3 (ipykernel)",
   "language": "python",
   "name": "python3"
  },
  "language_info": {
   "codemirror_mode": {
    "name": "ipython",
    "version": 3
   },
   "file_extension": ".py",
   "mimetype": "text/x-python",
   "name": "python",
   "nbconvert_exporter": "python",
   "pygments_lexer": "ipython3",
   "version": "3.10.3"
  }
 },
 "nbformat": 4,
 "nbformat_minor": 5
}
